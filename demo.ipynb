{
 "cells": [
  {
   "cell_type": "markdown",
   "metadata": {},
   "source": [
    "This notebook documents how to impletement the \"DataPublishTest\" package to generate and visualize data."
   ]
  },
  {
   "cell_type": "markdown",
   "metadata": {},
   "source": [
    "In the first step, we will invoke the \"genRandom.py\" Python script to generate some random integers. Due to pre-specified/hard-coded parameters, 1000 random integers ranging from 0 to 100 inclusively will be generated. The integers will be save in a text file called \"data_x.txt\"."
   ]
  },
  {
   "cell_type": "code",
   "execution_count": 1,
   "metadata": {},
   "outputs": [],
   "source": [
    "%run genRandom.py"
   ]
  },
  {
   "cell_type": "markdown",
   "metadata": {},
   "source": [
    "In the second step, we will invoke the \"LinMap.py\" Python script to linearly transform the integers we just created from the first step. To do so, the code reads the file containing the random integers that we just created and generates new numbers for all the original integers by using the equation: y=3x+6. In this euqation, y is the output and x represents a random integer from the first step. The numbers after the linear transform will be saved as a text file called \"data_y.txt\"."
   ]
  },
  {
   "cell_type": "code",
   "execution_count": 2,
   "metadata": {},
   "outputs": [],
   "source": [
    "%run LinMap.py"
   ]
  },
  {
   "cell_type": "markdown",
   "metadata": {},
   "source": [
    "In the last step, we will invoke the \"Vis.py\" Python script to visualize the results from the previous steps. The code reads both the output files from the last two steps, so the code has the original data and and numbers after the linear transform. The code will make a scatter plot where the orinal integers are on the x-axis and the numbers after the linear after the linear transform are on the y-axis. The code will save the scatter plot as a file called \"Scatter_Plot.png\". "
   ]
  },
  {
   "cell_type": "code",
   "execution_count": 3,
   "metadata": {},
   "outputs": [
    {
     "data": {
      "image/png": "[encoded data removed]",
      "text/plain": [
       "<Figure size 432x288 with 1 Axes>"
      ]
     },
     "metadata": {
      "needs_background": "light"
     },
     "output_type": "display_data"
    }
   ],
   "source": [
    "%run Vis.py"
   ]
  },
  {
   "cell_type": "code",
   "execution_count": null,
   "metadata": {},
   "outputs": [],
   "source": []
  }
 ],
 "metadata": {
  "kernelspec": {
   "display_name": "Python 3",
   "language": "python",
   "name": "python3"
  },
  "language_info": {
   "codemirror_mode": {
    "name": "ipython",
    "version": 3
   },
   "file_extension": ".py",
   "mimetype": "text/x-python",
   "name": "python",
   "nbconvert_exporter": "python",
   "pygments_lexer": "ipython3",
   "version": "3.8.0"
  }
 },
 "nbformat": 4,
 "nbformat_minor": 4
}
