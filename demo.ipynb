{
 "cells": [
  {
   "cell_type": "markdown",
   "metadata": {},
   "source": [
    "This nootebook documents how to use the code and visualize the results."
   ]
  },
  {
   "cell_type": "code",
   "execution_count": 1,
   "metadata": {},
   "outputs": [],
   "source": [
    "from genRandom import genRandom"
   ]
  },
  {
   "cell_type": "markdown",
   "metadata": {},
   "source": [
    "In the first step, we import the function \"genRandom\" from genRandom.py. This function takes three inpute parameters in order, which are lower bound, upper bound, and the number of integers to be generated. After sepcifying the inputs, this function can generate a list of random intergers inclusively in the bounds specified and the number of integers is also specified by the input. The result is outputed."
   ]
  },
  {
   "cell_type": "code",
   "execution_count": 2,
   "metadata": {},
   "outputs": [
    {
     "name": "stdout",
     "output_type": "stream",
     "text": [
      "[23, 37, 68, 3, 97]\n"
     ]
    }
   ],
   "source": [
    "lower=0\n",
    "upper=100\n",
    "num=1000\n",
    "x=genRandom(lower,upper,num)\n",
    "print(x[:5])"
   ]
  },
  {
   "cell_type": "markdown",
   "metadata": {},
   "source": [
    "We then specify the three input parameters and store the random integers in variable x as a list. We print the first five entries in the list to get a sense of how the values look like."
   ]
  },
  {
   "cell_type": "code",
   "execution_count": 3,
   "metadata": {},
   "outputs": [],
   "source": [
    "from LinMap import LinMap"
   ]
  },
  {
   "cell_type": "markdown",
   "metadata": {},
   "source": [
    "In the second step, we import the function \"LinMap\" from LinMap.py. This function takes three parameters in order, which are a list of numbers to be converted, the slope of the linear transform, and the intercept of the linear transform. After specifying the inputs, this function can convert each number (denoted as x) in the list to a new number y by using the linear equation: y = slop*x + intercept. Each new y is stored in a list with a position same as it was in the list before the transform. The result is outputed."
   ]
  },
  {
   "cell_type": "code",
   "execution_count": 4,
   "metadata": {},
   "outputs": [
    {
     "name": "stdout",
     "output_type": "stream",
     "text": [
      "[75, 117, 210, 15, 297]\n"
     ]
    }
   ],
   "source": [
    "slope=3\n",
    "intercept=6\n",
    "y=LinMap(x,slope,intercept)\n",
    "print(y[:5])"
   ]
  },
  {
   "cell_type": "markdown",
   "metadata": {},
   "source": [
    "Since we have x already, we only need to specify both the slop and the intercept. We store the output in varibale y as a list. The first five entries in y are outputed for comparison with the first fives entries in x."
   ]
  },
  {
   "cell_type": "code",
   "execution_count": 5,
   "metadata": {},
   "outputs": [],
   "source": [
    "from Vis import Vis"
   ]
  },
  {
   "cell_type": "markdown",
   "metadata": {},
   "source": [
    "In the last step, we import the function \"Vis\" from Vis.py. This function takes two parameters of the same type in order, which are a list of numerbers. However, the first list of numbers should have an equal length as does the second list of numbers. This function can generate a scatter plot using the first list as x coordinate and the second list as y coordinate."
   ]
  },
  {
   "cell_type": "code",
   "execution_count": 6,
   "metadata": {},
   "outputs": [
    {
     "data": {
      "image/png": "[encoded data removed]",
      "text/plain": [
       "<Figure size 432x288 with 1 Axes>"
      ]
     },
     "metadata": {
      "needs_background": "light"
     },
     "output_type": "display_data"
    }
   ],
   "source": [
    "Vis(x,y)"
   ]
  },
  {
   "cell_type": "markdown",
   "metadata": {},
   "source": [
    "We visualize the random integers and their linear transform from the scatter plot."
   ]
  },
  {
   "cell_type": "code",
   "execution_count": null,
   "metadata": {},
   "outputs": [],
   "source": []
  }
 ],
 "metadata": {
  "kernelspec": {
   "display_name": "Python 3",
   "language": "python",
   "name": "python3"
  },
  "language_info": {
   "codemirror_mode": {
    "name": "ipython",
    "version": 3
   },
   "file_extension": ".py",
   "mimetype": "text/x-python",
   "name": "python",
   "nbconvert_exporter": "python",
   "pygments_lexer": "ipython3",
   "version": "3.8.0"
  }
 },
 "nbformat": 4,
 "nbformat_minor": 4
}
